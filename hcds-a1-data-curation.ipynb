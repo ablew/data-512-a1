{
 "cells": [
  {
   "cell_type": "markdown",
   "metadata": {},
   "source": [
    "#### Agustin Lew\n",
    "## Asignment 1 - Data Curation"
   ]
  },
  {
   "cell_type": "markdown",
   "metadata": {},
   "source": [
    "Imports the necessary libraries to perform data gathering and analysis"
   ]
  },
  {
   "cell_type": "code",
   "execution_count": 1,
   "metadata": {
    "scrolled": true
   },
   "outputs": [
    {
     "name": "stdout",
     "output_type": "stream",
     "text": [
      "Populating the interactive namespace from numpy and matplotlib\n"
     ]
    }
   ],
   "source": [
    "import json\n",
    "import numpy as np\n",
    "import requests\n",
    "import pandas as pd\n",
    "from pandas.io.json import json_normalize\n",
    "import matplotlib.pyplot as plt\n",
    "%pylab inline"
   ]
  },
  {
   "cell_type": "markdown",
   "metadata": {},
   "source": [
    "### 1. Data Acquisition"
   ]
  },
  {
   "cell_type": "markdown",
   "metadata": {},
   "source": [
    "First, the url bases that we will use in our API calls are set. Then the parameters for the different API calls are chosen depending on the type of API and access type."
   ]
  },
  {
   "cell_type": "code",
   "execution_count": 2,
   "metadata": {},
   "outputs": [],
   "source": [
    "# sets the url for the wikimedia api call for legacy pagecounts and pageviews \n",
    "endpoint_legacy = 'https://wikimedia.org/api/rest_v1/metrics/legacy/pagecounts/aggregate/{project}/{access-site}/{granularity}/{start}/{end}'\n",
    "\n",
    "endpoint_pageviews = 'https://wikimedia.org/api/rest_v1/metrics/pageviews/aggregate/{project}/{access}/{agent}/{granularity}/{start}/{end}'"
   ]
  },
  {
   "cell_type": "code",
   "execution_count": 3,
   "metadata": {},
   "outputs": [],
   "source": [
    "\n",
    "# sets the parameters for legacy pagecounts for desktop and mobile access\n",
    "params_legacy_desktop = {\"project\" : \"en.wikipedia.org\",\n",
    "                         \"access-site\" : \"desktop-site\",\n",
    "                         \"granularity\" : \"monthly\",\n",
    "                         \"start\" : \"2007120100\",\n",
    "                         \"end\" : \"2016080100\"\n",
    "                         }\n",
    "\n",
    "params_legacy_mobile = {\"project\" : \"en.wikipedia.org\",\n",
    "                         \"access-site\" : \"mobile-site\",\n",
    "                         \"granularity\" : \"monthly\",\n",
    "                         \"start\" : \"2007120100\",\n",
    "                         \"end\" : \"2016080100\"\n",
    "                         }"
   ]
  },
  {
   "cell_type": "code",
   "execution_count": 4,
   "metadata": {},
   "outputs": [],
   "source": [
    "## sets the parameters for pageviews for desktop, mobile-app and mobile-web access\n",
    "params_pageviews_desktop = {\"project\" : \"en.wikipedia.org\",\n",
    "                            \"access\" : \"desktop\",\n",
    "                            \"agent\" : \"user\",\n",
    "                            \"granularity\" : \"monthly\",\n",
    "                            \"start\" : \"2015070100\",\n",
    "                            \"end\" : '2019100100'\n",
    "                            }\n",
    "\n",
    "params_pageviews_mobile_app = {\"project\" : \"en.wikipedia.org\",\n",
    "                               \"access\" : \"mobile-app\",\n",
    "                               \"agent\" : \"user\",\n",
    "                               \"granularity\" : \"monthly\",\n",
    "                               \"start\" : \"2015070100\",\n",
    "                               \"end\" : '2019100100'\n",
    "                               }\n",
    "\n",
    "params_pageviews_mobile_web = {\"project\" : \"en.wikipedia.org\",\n",
    "                               \"access\" : \"mobile-web\",\n",
    "                               \"agent\" : \"user\",\n",
    "                               \"granularity\" : \"monthly\",\n",
    "                               \"start\" : \"2015070100\",\n",
    "                               \"end\" : '2019100100'\n",
    "                               }\n",
    "\n",
    "# Customize these with your own information\n",
    "headers = {\n",
    "    'User-Agent': 'https://github.com/ablew',\n",
    "    'From': 'ablew@uw.edu'\n",
    "}"
   ]
  },
  {
   "cell_type": "markdown",
   "metadata": {},
   "source": [
    "Then, function is defined for making api calls using the url bases and the parameters that will be inserted into them."
   ]
  },
  {
   "cell_type": "code",
   "execution_count": 5,
   "metadata": {},
   "outputs": [],
   "source": [
    "def api_call(endpoint, parameters):\n",
    "    \"\"\"\n",
    "    makes api calls using the endpoint url and the parameters\n",
    "    params:\n",
    "    endpoint str\n",
    "    parameters dict\n",
    "    \"\"\"\n",
    "    call = requests.get(endpoint.format(**parameters), headers=headers)\n",
    "    response = call.json()\n",
    "    \n",
    "    return response"
   ]
  },
  {
   "cell_type": "markdown",
   "metadata": {},
   "source": [
    "The api_call function is used to obtain the data in .json format."
   ]
  },
  {
   "cell_type": "code",
   "execution_count": 6,
   "metadata": {},
   "outputs": [],
   "source": [
    "# obtains data from api for legacy pagecounts for both desktop and mobile access\n",
    "monthly_legacy_desktop = api_call(endpoint_legacy, params_legacy_desktop)\n",
    "monthly_legacy_mobile = api_call(endpoint_legacy, params_legacy_mobile)"
   ]
  },
  {
   "cell_type": "code",
   "execution_count": 7,
   "metadata": {},
   "outputs": [],
   "source": [
    "# obtains data from api for pageviews for desktop, mobile app and mobile web access\n",
    "monthly_pageviews_desktop = api_call(endpoint_pageviews, params_pageviews_desktop)\n",
    "monthly_pageviews_mobile_app = api_call(endpoint_pageviews, params_pageviews_mobile_app)\n",
    "monthly_pageviews_mobile_web = api_call(endpoint_pageviews, params_pageviews_mobile_web)"
   ]
  },
  {
   "cell_type": "markdown",
   "metadata": {},
   "source": [
    "The data is stored in .json files with the proper file names."
   ]
  },
  {
   "cell_type": "code",
   "execution_count": 8,
   "metadata": {},
   "outputs": [],
   "source": [
    "# saves data in .json files\n",
    "with open('pagecounts_desktop-site_200712-201608.json', 'w') as outfile:\n",
    "    json.dump(monthly_legacy_desktop, outfile)\n",
    "with open('pagecounts_mobile-site_200712-201608.json', 'w') as outfile:\n",
    "    json.dump(monthly_legacy_desktop, outfile)\n",
    "with open('pageviews_desktop_201507-201910.json', 'w') as outfile:\n",
    "    json.dump(monthly_legacy_desktop, outfile)\n",
    "with open('pageviews_mobile-app_201507-201910.json', 'w') as outfile:\n",
    "    json.dump(monthly_legacy_desktop, outfile)\n",
    "with open('pageviews_mobile-web_201507-201910.json', 'w') as outfile:\n",
    "    json.dump(monthly_legacy_desktop, outfile)"
   ]
  },
  {
   "cell_type": "markdown",
   "metadata": {},
   "source": [
    " "
   ]
  },
  {
   "cell_type": "markdown",
   "metadata": {},
   "source": [
    "### 2. Data Processing"
   ]
  },
  {
   "cell_type": "markdown",
   "metadata": {},
   "source": [
    "Pandas dataframes are created for each API/access-type using json_normalize()."
   ]
  },
  {
   "cell_type": "code",
   "execution_count": 9,
   "metadata": {},
   "outputs": [],
   "source": [
    "# creates dataframes for legacy desktop views and for legacy mobile pagecounts\n",
    "df_lg_desktop = json_normalize(monthly_legacy_desktop['items'])[['timestamp', 'count']]\n",
    "df_lg_mobile = json_normalize(monthly_legacy_mobile['items'])[['timestamp', 'count']]"
   ]
  },
  {
   "cell_type": "code",
   "execution_count": 10,
   "metadata": {},
   "outputs": [],
   "source": [
    "# creates dataframes for desktop, mobile-app and mobile-web pageviews \n",
    "df_pv_desktop = json_normalize(monthly_pageviews_desktop['items'])[['timestamp', 'views']]\n",
    "df_pv_mobile_app = json_normalize(monthly_pageviews_mobile_app['items'])[['timestamp', 'views']]\n",
    "df_pv_mobile_web = json_normalize(monthly_pageviews_mobile_web['items'])[['timestamp', 'views']]"
   ]
  },
  {
   "cell_type": "markdown",
   "metadata": {},
   "source": [
    "A new dataframe containing data for total mobile views is created by combining the number of views using the mobile app and the mobile web browser."
   ]
  },
  {
   "cell_type": "code",
   "execution_count": 11,
   "metadata": {
    "scrolled": true
   },
   "outputs": [],
   "source": [
    "# creates a new dataframe based on mobile-app and mobile-web to obtain total mobile views\n",
    "df_pv_total_mobile = pd.DataFrame() \n",
    "df_pv_total_mobile['timestamp'] = df_pv_mobile_app['timestamp']\n",
    "df_pv_total_mobile['views'] = df_pv_mobile_app['views'] + df_pv_mobile_web['views']"
   ]
  },
  {
   "cell_type": "code",
   "execution_count": 12,
   "metadata": {},
   "outputs": [
    {
     "data": {
      "text/html": [
       "<div>\n",
       "<style scoped>\n",
       "    .dataframe tbody tr th:only-of-type {\n",
       "        vertical-align: middle;\n",
       "    }\n",
       "\n",
       "    .dataframe tbody tr th {\n",
       "        vertical-align: top;\n",
       "    }\n",
       "\n",
       "    .dataframe thead th {\n",
       "        text-align: right;\n",
       "    }\n",
       "</style>\n",
       "<table border=\"1\" class=\"dataframe\">\n",
       "  <thead>\n",
       "    <tr style=\"text-align: right;\">\n",
       "      <th></th>\n",
       "      <th>timestamp</th>\n",
       "      <th>views</th>\n",
       "    </tr>\n",
       "  </thead>\n",
       "  <tbody>\n",
       "    <tr>\n",
       "      <th>0</th>\n",
       "      <td>2015070100</td>\n",
       "      <td>3288755294</td>\n",
       "    </tr>\n",
       "    <tr>\n",
       "      <th>1</th>\n",
       "      <td>2015080100</td>\n",
       "      <td>3302333038</td>\n",
       "    </tr>\n",
       "    <tr>\n",
       "      <th>2</th>\n",
       "      <td>2015090100</td>\n",
       "      <td>3170203333</td>\n",
       "    </tr>\n",
       "    <tr>\n",
       "      <th>3</th>\n",
       "      <td>2015100100</td>\n",
       "      <td>3268499132</td>\n",
       "    </tr>\n",
       "    <tr>\n",
       "      <th>4</th>\n",
       "      <td>2015110100</td>\n",
       "      <td>3236601070</td>\n",
       "    </tr>\n",
       "  </tbody>\n",
       "</table>\n",
       "</div>"
      ],
      "text/plain": [
       "    timestamp       views\n",
       "0  2015070100  3288755294\n",
       "1  2015080100  3302333038\n",
       "2  2015090100  3170203333\n",
       "3  2015100100  3268499132\n",
       "4  2015110100  3236601070"
      ]
     },
     "execution_count": 12,
     "metadata": {},
     "output_type": "execute_result"
    }
   ],
   "source": [
    "df_pv_total_mobile.head()"
   ]
  },
  {
   "cell_type": "markdown",
   "metadata": {},
   "source": [
    "The dataframes are joined one by one on the timestamp column, and replaces the missing values with zeros."
   ]
  },
  {
   "cell_type": "code",
   "execution_count": 13,
   "metadata": {
    "scrolled": true
   },
   "outputs": [],
   "source": [
    "# joins all four dataframes on the timestamp column\n",
    "df_merged = pd.merge(df_lg_desktop, df_lg_mobile, on='timestamp', how='outer')\n",
    "df_merged = pd.merge(df_merged, df_pv_desktop, on='timestamp', how='outer')\n",
    "df_merged = pd.merge(df_merged, df_pv_total_mobile, on='timestamp', how='outer')\n",
    "\n",
    "# fills NaNs with 0s\n",
    "df_merged = df_merged.fillna(0)"
   ]
  },
  {
   "cell_type": "code",
   "execution_count": 14,
   "metadata": {},
   "outputs": [
    {
     "data": {
      "text/html": [
       "<div>\n",
       "<style scoped>\n",
       "    .dataframe tbody tr th:only-of-type {\n",
       "        vertical-align: middle;\n",
       "    }\n",
       "\n",
       "    .dataframe tbody tr th {\n",
       "        vertical-align: top;\n",
       "    }\n",
       "\n",
       "    .dataframe thead th {\n",
       "        text-align: right;\n",
       "    }\n",
       "</style>\n",
       "<table border=\"1\" class=\"dataframe\">\n",
       "  <thead>\n",
       "    <tr style=\"text-align: right;\">\n",
       "      <th></th>\n",
       "      <th>timestamp</th>\n",
       "      <th>count_x</th>\n",
       "      <th>count_y</th>\n",
       "      <th>views_x</th>\n",
       "      <th>views_y</th>\n",
       "    </tr>\n",
       "  </thead>\n",
       "  <tbody>\n",
       "    <tr>\n",
       "      <th>0</th>\n",
       "      <td>2007120100</td>\n",
       "      <td>2.998332e+09</td>\n",
       "      <td>0.0</td>\n",
       "      <td>0.0</td>\n",
       "      <td>0.0</td>\n",
       "    </tr>\n",
       "    <tr>\n",
       "      <th>1</th>\n",
       "      <td>2008010100</td>\n",
       "      <td>4.930903e+09</td>\n",
       "      <td>0.0</td>\n",
       "      <td>0.0</td>\n",
       "      <td>0.0</td>\n",
       "    </tr>\n",
       "    <tr>\n",
       "      <th>2</th>\n",
       "      <td>2008020100</td>\n",
       "      <td>4.818394e+09</td>\n",
       "      <td>0.0</td>\n",
       "      <td>0.0</td>\n",
       "      <td>0.0</td>\n",
       "    </tr>\n",
       "    <tr>\n",
       "      <th>3</th>\n",
       "      <td>2008030100</td>\n",
       "      <td>4.955406e+09</td>\n",
       "      <td>0.0</td>\n",
       "      <td>0.0</td>\n",
       "      <td>0.0</td>\n",
       "    </tr>\n",
       "    <tr>\n",
       "      <th>4</th>\n",
       "      <td>2008040100</td>\n",
       "      <td>5.159162e+09</td>\n",
       "      <td>0.0</td>\n",
       "      <td>0.0</td>\n",
       "      <td>0.0</td>\n",
       "    </tr>\n",
       "  </tbody>\n",
       "</table>\n",
       "</div>"
      ],
      "text/plain": [
       "    timestamp       count_x  count_y  views_x  views_y\n",
       "0  2007120100  2.998332e+09      0.0      0.0      0.0\n",
       "1  2008010100  4.930903e+09      0.0      0.0      0.0\n",
       "2  2008020100  4.818394e+09      0.0      0.0      0.0\n",
       "3  2008030100  4.955406e+09      0.0      0.0      0.0\n",
       "4  2008040100  5.159162e+09      0.0      0.0      0.0"
      ]
     },
     "execution_count": 14,
     "metadata": {},
     "output_type": "execute_result"
    }
   ],
   "source": [
    "df_merged.head()"
   ]
  },
  {
   "cell_type": "markdown",
   "metadata": {},
   "source": [
    "The final dataframe is created, containing the necessary columns as stipulated by the assignment instructions."
   ]
  },
  {
   "cell_type": "code",
   "execution_count": 15,
   "metadata": {},
   "outputs": [],
   "source": [
    "#creates the final dataframe with all the relevant data, slicing the timestamp column into year and month\n",
    "df_final = pd.DataFrame()\n",
    "df_final['year'] = df_merged['timestamp'].str.slice(0, 4) \n",
    "df_final['month'] = df_merged['timestamp'].str.slice(4, 6)\n",
    "df_final['pagecount_all_views'] = df_merged['count_x'] + df_merged['count_y']\n",
    "df_final['pagecount_desktop_views'] = df_merged['count_x']\n",
    "df_final['pagecount_mobile_views'] = df_merged['count_y']\n",
    "df_final['pageview_all_views'] = df_merged['views_x'] + df_merged['views_y']\n",
    "df_final['pageview_desktop_views'] = df_merged['views_x']\n",
    "df_final['pageview_mobile_views'] = df_merged['views_y']"
   ]
  },
  {
   "cell_type": "code",
   "execution_count": 16,
   "metadata": {
    "scrolled": true
   },
   "outputs": [
    {
     "data": {
      "text/html": [
       "<div>\n",
       "<style scoped>\n",
       "    .dataframe tbody tr th:only-of-type {\n",
       "        vertical-align: middle;\n",
       "    }\n",
       "\n",
       "    .dataframe tbody tr th {\n",
       "        vertical-align: top;\n",
       "    }\n",
       "\n",
       "    .dataframe thead th {\n",
       "        text-align: right;\n",
       "    }\n",
       "</style>\n",
       "<table border=\"1\" class=\"dataframe\">\n",
       "  <thead>\n",
       "    <tr style=\"text-align: right;\">\n",
       "      <th></th>\n",
       "      <th>year</th>\n",
       "      <th>month</th>\n",
       "      <th>pagecount_all_views</th>\n",
       "      <th>pagecount_desktop_views</th>\n",
       "      <th>pagecount_mobile_views</th>\n",
       "      <th>pageview_all_views</th>\n",
       "      <th>pageview_desktop_views</th>\n",
       "      <th>pageview_mobile_views</th>\n",
       "    </tr>\n",
       "  </thead>\n",
       "  <tbody>\n",
       "    <tr>\n",
       "      <th>0</th>\n",
       "      <td>2007</td>\n",
       "      <td>12</td>\n",
       "      <td>2.998332e+09</td>\n",
       "      <td>2.998332e+09</td>\n",
       "      <td>0.0</td>\n",
       "      <td>0.0</td>\n",
       "      <td>0.0</td>\n",
       "      <td>0.0</td>\n",
       "    </tr>\n",
       "    <tr>\n",
       "      <th>1</th>\n",
       "      <td>2008</td>\n",
       "      <td>01</td>\n",
       "      <td>4.930903e+09</td>\n",
       "      <td>4.930903e+09</td>\n",
       "      <td>0.0</td>\n",
       "      <td>0.0</td>\n",
       "      <td>0.0</td>\n",
       "      <td>0.0</td>\n",
       "    </tr>\n",
       "    <tr>\n",
       "      <th>2</th>\n",
       "      <td>2008</td>\n",
       "      <td>02</td>\n",
       "      <td>4.818394e+09</td>\n",
       "      <td>4.818394e+09</td>\n",
       "      <td>0.0</td>\n",
       "      <td>0.0</td>\n",
       "      <td>0.0</td>\n",
       "      <td>0.0</td>\n",
       "    </tr>\n",
       "    <tr>\n",
       "      <th>3</th>\n",
       "      <td>2008</td>\n",
       "      <td>03</td>\n",
       "      <td>4.955406e+09</td>\n",
       "      <td>4.955406e+09</td>\n",
       "      <td>0.0</td>\n",
       "      <td>0.0</td>\n",
       "      <td>0.0</td>\n",
       "      <td>0.0</td>\n",
       "    </tr>\n",
       "    <tr>\n",
       "      <th>4</th>\n",
       "      <td>2008</td>\n",
       "      <td>04</td>\n",
       "      <td>5.159162e+09</td>\n",
       "      <td>5.159162e+09</td>\n",
       "      <td>0.0</td>\n",
       "      <td>0.0</td>\n",
       "      <td>0.0</td>\n",
       "      <td>0.0</td>\n",
       "    </tr>\n",
       "  </tbody>\n",
       "</table>\n",
       "</div>"
      ],
      "text/plain": [
       "   year month  pagecount_all_views  pagecount_desktop_views  \\\n",
       "0  2007    12         2.998332e+09             2.998332e+09   \n",
       "1  2008    01         4.930903e+09             4.930903e+09   \n",
       "2  2008    02         4.818394e+09             4.818394e+09   \n",
       "3  2008    03         4.955406e+09             4.955406e+09   \n",
       "4  2008    04         5.159162e+09             5.159162e+09   \n",
       "\n",
       "   pagecount_mobile_views  pageview_all_views  pageview_desktop_views  \\\n",
       "0                     0.0                 0.0                     0.0   \n",
       "1                     0.0                 0.0                     0.0   \n",
       "2                     0.0                 0.0                     0.0   \n",
       "3                     0.0                 0.0                     0.0   \n",
       "4                     0.0                 0.0                     0.0   \n",
       "\n",
       "   pageview_mobile_views  \n",
       "0                    0.0  \n",
       "1                    0.0  \n",
       "2                    0.0  \n",
       "3                    0.0  \n",
       "4                    0.0  "
      ]
     },
     "execution_count": 16,
     "metadata": {},
     "output_type": "execute_result"
    }
   ],
   "source": [
    "df_final.head()"
   ]
  },
  {
   "cell_type": "markdown",
   "metadata": {},
   "source": [
    "The final dataframe is saved as a .csv file."
   ]
  },
  {
   "cell_type": "code",
   "execution_count": 19,
   "metadata": {},
   "outputs": [],
   "source": [
    "df_final.to_csv('en-wikipedia_traffic_200712-201809.csv', index=False)"
   ]
  },
  {
   "cell_type": "markdown",
   "metadata": {},
   "source": [
    " "
   ]
  },
  {
   "cell_type": "markdown",
   "metadata": {},
   "source": [
    "### 3. Data Analysis"
   ]
  },
  {
   "cell_type": "markdown",
   "metadata": {},
   "source": [
    "The zero values are replaced with NaNs to provide a clearer visualization and to show when each method for data collection starts and ends.\n",
    "The time series for each dataframe is plotted in a single visualization, and various graph elements are added and formatted, such the the title, the labels, the grid, and the legend.\n",
    "A .png image of the plot is also saved before showing the visualization."
   ]
  },
  {
   "cell_type": "code",
   "execution_count": 20,
   "metadata": {},
   "outputs": [],
   "source": [
    "# replaces all 0's with Nans so that they don't appear in the visualization\n",
    "df_final.replace(0, np.nan, inplace=True)"
   ]
  },
  {
   "cell_type": "code",
   "execution_count": 24,
   "metadata": {
    "scrolled": false
   },
   "outputs": [
    {
     "data": {
      "image/png": "[encoded data removed]",
      "text/plain": [
       "<Figure size 864x360 with 1 Axes>"
      ]
     },
     "metadata": {
      "needs_background": "light"
     },
     "output_type": "display_data"
    }
   ],
   "source": [
    "# creates a time series graph with the different types of apis and access types\n",
    "df_final.set_index(pd.to_datetime(df_final[['year','month']].assign(day=1)))['pagecount_desktop_views'].plot(color='green', linestyle='--', figsize=(12,5))\n",
    "df_final.set_index(pd.to_datetime(df_final[['year','month']].assign(day=1)))['pagecount_mobile_views'].plot(color='blue', linestyle='--')\n",
    "df_final.set_index(pd.to_datetime(df_final[['year','month']].assign(day=1)))['pagecount_all_views'].plot(color='black', linestyle='--')\n",
    "df_final.set_index(pd.to_datetime(df_final[['year','month']].assign(day=1)))['pageview_desktop_views'].plot(color='green', linestyle='-')\n",
    "df_final.set_index(pd.to_datetime(df_final[['year','month']].assign(day=1)))['pageview_mobile_views'].plot(color='blue', linestyle='-')\n",
    "df_final.set_index(pd.to_datetime(df_final[['year','month']].assign(day=1)))['pageview_all_views'].plot(color='black', linestyle='-')\n",
    "\n",
    "# adds title, axis labels, yticks, grid, legend and footnote\n",
    "plt.title('Page Views on English Wikipedia (x 1,000,000)')\n",
    "plt.xlabel('Year')\n",
    "plt.ylabel('Page views')\n",
    "#yticks are converted so it shows numbers x 1,000,000\n",
    "max_views = max(df_final['pagecount_all_views'])\n",
    "plt.yticks(ticks=np.arange(0, max_views + 2000000000, 2000000000), labels=np.arange(0, max_views/1000000 + 2000, 2000))\n",
    "plt.grid()\n",
    "plt.legend(('main site', 'mobile site', 'total'), loc='upper left')\n",
    "plt.figtext(0.85, 0, 'May 2015: a new pageview definition took effect, which eliminated all crawler traffic. Solid lines mark new definition.', horizontalalignment='right', color='red')\n",
    "plt.savefig('plot.png')\n",
    "plt.show()"
   ]
  },
  {
   "cell_type": "code",
   "execution_count": null,
   "metadata": {},
   "outputs": [],
   "source": []
  }
 ],
 "metadata": {
  "kernelspec": {
   "display_name": "Python 3",
   "language": "python",
   "name": "python3"
  },
  "language_info": {
   "codemirror_mode": {
    "name": "ipython",
    "version": 3
   },
   "file_extension": ".py",
   "mimetype": "text/x-python",
   "name": "python",
   "nbconvert_exporter": "python",
   "pygments_lexer": "ipython3",
   "version": "3.7.3"
  }
 },
 "nbformat": 4,
 "nbformat_minor": 2
}
